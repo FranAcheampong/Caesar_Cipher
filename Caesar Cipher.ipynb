{
 "cells": [
  {
   "cell_type": "markdown",
   "id": "c1f7f0ea",
   "metadata": {},
   "source": [
    "# Week 7 Peer Programming Project\n",
    "Enable fullscreen\n",
    "Caesar's Cipher Encryption\n",
    "\n",
    "The IT team needs to comply with the companies' policies on data privacy,  \n",
    "\n",
    "your boss tasks you to write an algorithm to encrypt and decrypt its internal messages using Caesar's Cipher.\n",
    "\n",
    "\n",
    "In cryptography, a Caesar cipher, also known as shift cipher, is one of the simplest and most widely known encryption techniques. \n",
    "\n",
    "It is a type of substitution cipher in which each letter in the plaintext is replaced by a letter of some fixed number of positions down the alphabet. \n",
    "\n",
    "For example, \n",
    "# with a left shift of 3, D would be replaced by A, E would become B. \n",
    "\n",
    "        The method is named after Julius Caesar, who used it in his private correspondence.\n",
    "\n",
    "        The transformation can be represented by aligning \n",
    "\n",
    "Transformation\n",
    "# two alphabets; the cipher alphabet is the plain alphabet rotated left or right by some number of positions. \n",
    "\n",
    "For instance, \n",
    "# here is a Caesar cipher using a left rotation of three places, \n",
    "        equivalent to a right shift of 23 (the shift parameter is used as the key):\n",
    "\n",
    "# Plain:  ABCDEFGHIJKLMNOPQRSTUVWXYZ\n",
    "\n",
    "# Cipher: XYZABCDEFGHIJKLMNOPQRSTUVW\n",
    "\n",
    "# When encrypting, a person looks up each letter of the message in the “plain” \n",
    "# line and writes down the corresponding letter in the “cipher” line.\n",
    "\n",
    "Plaintext:  THE QUICK BROWN FOX JUMPS OVER THE LAZY DOG\n",
    "\n",
    "Ciphertext: QEB NRFZH YOLTK CLU GRJMP LSBO QEB IXWV ALD\n",
    "\n",
    "Deciphering is done in reverse, with a right shift of 3."
   ]
  },
  {
   "cell_type": "code",
   "execution_count": null,
   "id": "25399087",
   "metadata": {},
   "outputs": [],
   "source": []
  },
  {
   "cell_type": "code",
   "execution_count": null,
   "id": "0578091c",
   "metadata": {},
   "outputs": [],
   "source": [
    "shift_key=input('Enter the shift key: ')\n",
    "text=input(\"Enter your message to send: \")\n",
    "# text.upper()\n",
    "encryption = \" \"\n",
    "shift=int(shift_key)\n",
    "\n",
    "\n",
    "for c in text:\n",
    "\n",
    "    # check if character is an uppercase letter\n",
    "    if c.isupper():\n",
    "        # find the position in 0-25\n",
    "        c_unicode = ord(c)\n",
    "\n",
    "        c_index = ord(c) - ord(\"A\")\n",
    "\n",
    "        # perform the shift\n",
    "        new_index = (c_index + shift) % 26\n",
    "\n",
    "        # convert to new character\n",
    "        new_unicode = new_index + ord(\"A\")\n",
    "\n",
    "        new_character = chr(new_unicode)\n",
    "\n",
    "        # append to encrypted string\n",
    "        encryption = encryption + new_character\n",
    "\n",
    "\n",
    "    elif c.islower():\n",
    "            # find the position in 0-25\n",
    "            c_unicode = ord(c)\n",
    "\n",
    "            c_index = ord(c) - ord(\"a\")\n",
    "\n",
    "            # perform the shift\n",
    "            new_index = (c_index + shift) % 26\n",
    "\n",
    "            # convert to new character\n",
    "            new_unicode =new_index + ord(\"a\")\n",
    "\n",
    "            new_character = chr(new_unicode)\n",
    "\n",
    "            # append to encrypted string\n",
    "            encryption = encryption + new_character\n",
    "\n",
    "            # since character is not uppercase or lowercase, leave it as it is\n",
    "    else:\n",
    "            encryption += c\n",
    "print(\"Plain text:\",text)\n",
    "\n",
    "print(\"Encrypted text:\",encryption)"
   ]
  },
  {
   "cell_type": "markdown",
   "id": "a9826b73",
   "metadata": {},
   "source": [
    "1. Define the shift value i.e., the number of positions we want to shift from each character.\n",
    "2. Iterate over each character of the plain text:\n",
    "3. If the character is upper-case:\n",
    "4. Calculate the position/index of the character in the 0-25 range.\n",
    "5. Perform the positive shift using the modulo operation.\n",
    "6. Find the character at the new position.\n",
    "7. Replace the current capital letter by this new character.\n",
    "8. Else, If the character is not upper-case, keep it with no change"
   ]
  },
  {
   "cell_type": "code",
   "execution_count": 31,
   "id": "1ec53947",
   "metadata": {},
   "outputs": [
    {
     "name": "stdout",
     "output_type": "stream",
     "text": [
      "WELCOME TO CAESAR CIPHER ENCRYPTION PROJECT\n",
      "***********************************************\n",
      "Enter your message to encrypt: coxkzfp\n",
      "Enter the shift key eg. 23: \n",
      "None3\n",
      "Plain Text : coxkzfp\n",
      "Shift Key :  3\n",
      "Cipher: francis\n"
     ]
    }
   ],
   "source": [
    "print('WELCOME TO CAESAR CIPHER ENCRYPTION PROJECT')\n",
    "print('*'*47)\n",
    "text = input('Enter your message to encrypt: ')\n",
    "s=int(input(print('Enter the shift key eg. 23: ')))\n",
    "def encrypt(text,s): \n",
    "    result = \"\" # transverse the plain text\n",
    "    for i in range(len(text)): \n",
    "        char = text[i] # Encrypt uppercase character in plain text \n",
    "        if (char.isupper()): \n",
    "            result += chr((ord(char) + s-65) % 26 + 65) # Encrypt lowercase characters in plain text \n",
    "        elif (char.islower()): \n",
    "            result += chr((ord(char) + s-97) % 26 + 97) # Encrypt lowercase characters in plain text \n",
    "        else: \n",
    "#          result += chr((ord(char) + s - 97) % 26 + 97) \n",
    "            result +=char\n",
    "    return result #check the above function \n",
    "# text = input('Enter your message to encrypt: ')\n",
    "# s=int(input(print('Enter the shift key eg. 23: ')))\n",
    "print (\"Plain Text : \" + text )\n",
    "print (f\"Shift Key : \", s)\n",
    "print (\"Cipher: \" + encrypt(text,s))"
   ]
  },
  {
   "cell_type": "markdown",
   "id": "4eabd5d5",
   "metadata": {},
   "source": [
    "def decrypt(): #enter your encrypted message(string) below \n",
    "    encrypted_message = input(\"Enter the message i.e to be decrypted: \").strip() \n",
    "    letters=\"abcdefghijklmnopqrstuvwxyz\" #enter the key value to decrypt \n",
    "    k = int(input(\"Enter the key to decrypt: \")) \n",
    "    decrypted_message = \"\" \n",
    "    for ch in encrypted_message: \n",
    "        if ch in letters: \n",
    "            position = letters.find(ch) \n",
    "            new_pos = (position - k) % 26 \n",
    "            new_char = letters[new_pos] \n",
    "            decrypted_message += new_char \n",
    "        else: \n",
    "                decrypted_message += ch \n",
    "    print(\"Your decrypted message is:\\n\") \n",
    "    print(decrypted_message) \n",
    "decrypt()"
   ]
  },
  {
   "cell_type": "code",
   "execution_count": 21,
   "id": "ed4003d0",
   "metadata": {},
   "outputs": [
    {
     "name": "stdout",
     "output_type": "stream",
     "text": [
      "122\n"
     ]
    }
   ],
   "source": [
    "c_unicode=ord(\"z\")\n",
    "print(c_unicode)"
   ]
  },
  {
   "cell_type": "code",
   "execution_count": 24,
   "id": "18a074be",
   "metadata": {},
   "outputs": [
    {
     "name": "stdout",
     "output_type": "stream",
     "text": [
      "****************************************\n"
     ]
    }
   ],
   "source": [
    "print('*'*40)"
   ]
  },
  {
   "cell_type": "code",
   "execution_count": 27,
   "id": "0ec16a6e",
   "metadata": {},
   "outputs": [
    {
     "name": "stdout",
     "output_type": "stream",
     "text": [
      "X\n"
     ]
    }
   ],
   "source": [
    "char=chr(88)\n",
    "print(C_unicode)"
   ]
  },
  {
   "cell_type": "code",
   "execution_count": 33,
   "id": "2cb60ca3",
   "metadata": {},
   "outputs": [
    {
     "ename": "SyntaxError",
     "evalue": "invalid syntax (<ipython-input-33-c00011f6d036>, line 2)",
     "output_type": "error",
     "traceback": [
      "\u001b[1;36m  File \u001b[1;32m\"<ipython-input-33-c00011f6d036>\"\u001b[1;36m, line \u001b[1;32m2\u001b[0m\n\u001b[1;33m    for i in range(97,123)\u001b[0m\n\u001b[1;37m                          ^\u001b[0m\n\u001b[1;31mSyntaxError\u001b[0m\u001b[1;31m:\u001b[0m invalid syntax\n"
     ]
    }
   ],
   "source": [
    "lower=[]\n",
    "for i in range(97,123)\n",
    "    print(i)"
   ]
  },
  {
   "cell_type": "code",
   "execution_count": null,
   "id": "e99175f2",
   "metadata": {},
   "outputs": [],
   "source": []
  }
 ],
 "metadata": {
  "kernelspec": {
   "display_name": "Python 3",
   "language": "python",
   "name": "python3"
  },
  "language_info": {
   "codemirror_mode": {
    "name": "ipython",
    "version": 3
   },
   "file_extension": ".py",
   "mimetype": "text/x-python",
   "name": "python",
   "nbconvert_exporter": "python",
   "pygments_lexer": "ipython3",
   "version": "3.8.8"
  }
 },
 "nbformat": 4,
 "nbformat_minor": 5
}
